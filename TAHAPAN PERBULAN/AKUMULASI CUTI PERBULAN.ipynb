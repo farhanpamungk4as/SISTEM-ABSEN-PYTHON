{
 "cells": [
  {
   "cell_type": "code",
   "execution_count": 2,
   "metadata": {},
   "outputs": [],
   "source": [
    "import pandas as pd\n",
    "import numpy as np\n",
    " \n"
   ]
  },
  {
   "cell_type": "markdown",
   "metadata": {},
   "source": [
    "                                                     MASUKIN BULAN ABSEN YANG SUDAH ADA DATA ABSENYA                                                    "
   ]
  },
  {
   "cell_type": "code",
   "execution_count": 12,
   "metadata": {},
   "outputs": [],
   "source": [
    "# data_cuti_january = pd.read_excel('rekap cuti januaryy.xlsx')\n",
    "# data_cuti_february = pd.read_excel('rekap cuti february.xlsx')\n",
    "# data_cuti_march = pd.read_excel('rekap cuti march.xlsx')\n",
    "# data_cuti_april = pd.read_excel('rekap cuti april.xlsx')\n",
    "# data_cuti_may = pd.read_excel('rekap cuti may.xlsx')\n",
    "# data_cuti_june = pd.read_excel('rekap cuti juny.xlsx')\n",
    "# data_cuti_july = pd.read_excel('rekap cuti july.xlsx')\n",
    "# data_cuti_august = pd.read_excel('rekap cuti agustus.xlsx')\n",
    "# data_cuti_september = pd.read_excel('rekap cuti september.xlsx')\n",
    "# data_cuti_october = pd.read_excel('rekap cuti october.xlsx')\n",
    "# data_cuti_november = pd.read_excel('rekap cuti november.xlsx')\n",
    "# data_cuti_december = pd.read_excel('rekap cuti december.xlsx')"
   ]
  },
  {
   "cell_type": "markdown",
   "metadata": {},
   "source": [
    "                                                       HAPUS TANDA KURUNG JIKA SUDAH SAMPAI DI BULAN TERSEBUT                                                            "
   ]
  },
  {
   "cell_type": "code",
   "execution_count": 1,
   "metadata": {},
   "outputs": [],
   "source": [
    "\n",
    "# data_cuti_january = data_cuti_january[['No', 'NAMA KARYAWAN', 'NEW MANUAL','UNIT KERJA','ALPHA','SAKIT','CUTI','TUGAS','KULIAH','IZIN','RAKER','pkl/skripsi','smnr/plthn','CUTI KHUSUS']] \n",
    "# data_cuti_february = data_cuti_february[['ALPHA','SAKIT','CUTI','TUGAS','KULIAH','IZIN','RAKER','pkl/skripsi','smnr/plthn','CUTI KHUSUS']]\n",
    "# january_february = pd.concat([ddata_cuti_january, data_cuti_february], axis=1, keys=['january', 'february'])\n",
    "# january_february\n",
    "# data_cuti_march = data_cuti_march[['ALPHA','SAKIT','CUTI','TUGAS','KULIAH','IZIN','RAKER','pkl/skripsi','smnr/plthn','CUTI KHUSUS']]\n",
    "# january_february_march = pd.concat([data_cuti_january, data_cuti_march, data_cuti_february], axis=1, keys=['january','february', 'march'])\n",
    "# january_february_march\n",
    "# data_cuti_april = data_cuti_april[['ALPHA','SAKIT','CUTI','TUGAS','KULIAH','IZIN','RAKER','pkl/skripsi','smnr/plthn','CUTI KHUSUS']]\n",
    "# january_february_march_april = pd.concat([data_cuti_january, data_cuti_march, data_cuti_february, data_cuti_april], axis=1, keys=['january','february', 'march', 'april'])\n",
    "# january_february_march_april\n",
    "# data_cuti_may = data_cuti_may[['ALPHA','SAKIT','CUTI','TUGAS','KULIAH','IZIN','RAKER','pkl/skripsi','smnr/plthn','CUTI KHUSUS']]\n",
    "# january_february_march_april_may = pd.concat([data_cuti_january, data_cuti_march, data_cuti_february, data_cuti_april, data_cuti_may], axis=1, keys=['january','february', 'march', 'april', 'may'])\n",
    "# january_february_march_april_may\n",
    "# data_cuti_june = data_cuti_june[['ALPHA','SAKIT','CUTI','TUGAS','KULIAH','IZIN','RAKER','pkl/skripsi','smnr/plthn','CUTI KHUSUS']]\n",
    "# january_february_march_april_may_june = pd.concat([data_cuti_january, data_cuti_march, data_cuti_february, data_cuti_april, data_cuti_may, data_cuti_june], axis=1, keys=['january','february', 'march', 'april', 'may', 'june'])\n",
    "# january_february_march_april_may_june \n",
    "\n",
    "\n",
    "\n"
   ]
  },
  {
   "cell_type": "markdown",
   "metadata": {},
   "source": [
    "                                                          RUNNING KODE DIBAWAH JIKA SUDAH SAMPAI SETAHUN REKAP CUTINYA                                                    "
   ]
  },
  {
   "cell_type": "code",
   "execution_count": null,
   "metadata": {},
   "outputs": [],
   "source": [
    "# izin_columns = [col for col in january_february.columns if 'IZIN' in col]\n",
    "# cuti_columns = [col for col in january_february.columns if 'CUTI' in col]\n",
    "# sakit_columns = [col for col in january_february.columns if 'SAKIT' in col]\n",
    "# alpha_columns = [col for col in january_february.columns if 'ALPHA' in col]\n",
    "\n",
    "\n",
    "# anuary_february[\"TOTAL_SISA_CUTI\"] = january_february[izin_columns].sum(axis=1) + january_february[cuti_columns].sum(axis=1) + january_february[sakit_columns].sum(axis=1) + january_february[alpha_columns].sum(axis=1)\n",
    "# january_february.to_excel('rekap cuti januaryya.xlsx')"
   ]
  }
 ],
 "metadata": {
  "kernelspec": {
   "display_name": "interpreter",
   "language": "python",
   "name": "python3"
  },
  "language_info": {
   "codemirror_mode": {
    "name": "ipython",
    "version": 3
   },
   "file_extension": ".py",
   "mimetype": "text/x-python",
   "name": "python",
   "nbconvert_exporter": "python",
   "pygments_lexer": "ipython3",
   "version": "3.9.18"
  }
 },
 "nbformat": 4,
 "nbformat_minor": 2
}
