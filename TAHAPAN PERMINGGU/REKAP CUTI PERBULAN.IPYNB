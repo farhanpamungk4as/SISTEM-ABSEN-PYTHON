{
 "cells": [
  {
   "cell_type": "code",
   "execution_count": 2,
   "metadata": {},
   "outputs": [],
   "source": [
    "import pandas as pd\n",
    "import numpy as np"
   ]
  },
  {
   "cell_type": "markdown",
   "metadata": {},
   "source": [
    "                                        GANTI NAMA FILE BULAN APA YANG MAU DI INPUT DAN RUNNING                                                                         "
   ]
  },
  {
   "cell_type": "code",
   "execution_count": 15,
   "metadata": {},
   "outputs": [],
   "source": [
    "# data_absen_bulan = pd.read_excel('21dec-20jan.xlsx', index= False)\n",
    "# data_absen_bulan_tambahan = pd.read_excel('21jan-20feb.xlsx', index= False)\n",
    "# data_absen_perbulan = data_absen_bulan[['No','NAMA KARYAWAN','NEW MANUAL','NEW SISTEM','UNIT KERJA','01/01/2024','02/01/2024','03/01/2024','04/01/2024','05/01/2024','06/01/2024','07/01/2024','08/01/2024','09/01/2024','10/01/2024','11/01/2024','12/01/2024','13/01/2024','14/01/2024','15/01/2024','16/01/2024','17/01/2024','18/01/2024','19/01/2024','20/01/2024']]\n",
    "# data_absen_perbulan[['21/01/2024','22/01/2024','23/01/2024','24/01/2024','25/01/2024','26/01/2024','27/01/2024','28/01/2024','29/01/2024','30/01/2024']] = data_absen_bulan_tambahan[['21/01/2024','22/01/2024','23/01/2024','24/01/2024','25/01/2024','26/01/2024','27/01/2024','28/01/2024','29/01/2024','30/01/2024']]"
   ]
  },
  {
   "cell_type": "markdown",
   "metadata": {},
   "source": [
    "                                                        MASUKINNN TANGGAL MERAH DI BULAN TERSEBUT                                                          \n",
    "                                    JIKA SUDAH DI ENTER MASUK KE STEP BERIKUTNYA UNTUK SIMPAN DI CUTI TAHUNAN                                                "
   ]
  },
  {
   "cell_type": "code",
   "execution_count": 2,
   "metadata": {},
   "outputs": [],
   "source": [
    "from datetime import datetime, timedelta\n",
    "\n",
    "# MASUKIN TANGGAL MERAH\n",
    "tanggal_merah = [\"2024-01-09\"] \n",
    "tanggal_columnsk = data_absen_perbulan.columns[6:]\n",
    "def hitung_jumlah_ga_masuk(row):\n",
    "    for col in data_absen_perbulan.columns[6:]:  \n",
    "        if pd.notna(row[col]) and \"Tidak Masuk\" in str(row[col]) and pd.to_datetime(col, format=\"%d/%m/%Y\").weekday() < 5 and col not in tanggal_merah:\n",
    "            row[col] = 'A'\n",
    "        elif pd.notna(row[col]) and \"sakit\" in str(row[col]) and pd.to_datetime(col, format=\"%d/%m/%Y\").weekday() < 5 and col not in tanggal_merah:\n",
    "            row[col] = 'S'\n",
    "        elif pd.notna(row[col]) and \"cuti\" in str(row[col]) and pd.to_datetime(col, format=\"%d/%m/%Y\").weekday() < 5 and col not in tanggal_merah:\n",
    "            row[col] = 'C'\n",
    "        elif pd.notna(row[col]) and \"izin\" in str(row[col]) and pd.to_datetime(col, format=\"%d/%m/%Y\").weekday() < 5 and col not in tanggal_merah:\n",
    "            row[col] = 'I'\n",
    "        elif pd.notna(row[col]) and \"cuti khusus\" in str(row[col]) and pd.to_datetime(col, format=\"%d/%m/%Y\").weekday() < 5 and col not in tanggal_merah:\n",
    "            row[col] = 'CK'\n",
    "        elif pd.notna(row[col]) and \"tugas\" in str(row[col]) and pd.to_datetime(col, format=\"%d/%m/%Y\").weekday() < 5 and col not in tanggal_merah:\n",
    "            row[col] = 'T'\n",
    "        elif pd.notna(row[col]) and \"raker\" in str(row[col]) and pd.to_datetime(col, format=\"%d/%m/%Y\").weekday() < 5 and col not in tanggal_merah:\n",
    "            row[col] = 'R'\n",
    "        elif pd.notna(row[col]) and \"pkl/skripsi\" in str(row[col]) and pd.to_datetime(col, format=\"%d/%m/%Y\").weekday() < 5 and col not in tanggal_merah:\n",
    "            row[col] = 'pkl/skripsi'\n",
    "        elif pd.notna(row[col]) and \"kuliah\" in str(row[col]) and pd.to_datetime(col, format=\"%d/%m/%Y\").weekday() < 5 and col not in tanggal_merah:\n",
    "            row[col] = 'K'\n",
    "        elif pd.notna(row[col]) and \"smnr/plthn\" in str(row[col]) and pd.to_datetime(col, format=\"%d/%m/%Y\").weekday() < 5 and col not in tanggal_merah:\n",
    "            row[col] = 'smnr/plthn'\n",
    "        else:\n",
    "            row[col] = pd.NaT\n",
    "\n",
    "        \n",
    "    return row\n",
    "data_absen_perbulan = data_absen_perbulan.apply(hitung_jumlah_ga_masuk, axis=1)\n",
    "\n",
    "\n",
    "\n",
    "def hitung_jumlah_A(row):\n",
    "    return sum([1 for col in row if pd.notna(col) and col == 'A'])\n",
    "data_absen_perbulan['ALPHA'] = data_absen_perbulan.apply(hitung_jumlah_A, axis=1)\n",
    "def hitung_jumlah_S(row):\n",
    "    return sum([1 for col in row if pd.notna(col) and col == 'S'])\n",
    "data_absen_perbulan['SAKIT'] = data_absen_perbulan.apply(hitung_jumlah_S, axis=1)\n",
    "def hitung_jumlah_C(row):\n",
    "    return sum([1 for col in row if pd.notna(col) and col == 'C'])\n",
    "data_absen_perbulan['CUTI'] = data_absen_perbulan.apply(hitung_jumlah_C, axis=1)\n",
    "def hitung_jumlah_T(row):\n",
    "    return sum([1 for col in row if pd.notna(col) and col == 'T'])\n",
    "data_absen_perbulan['TUGAS'] = data_absen_perbulan.apply(hitung_jumlah_T, axis=1)\n",
    "def hitung_jumlah_K(row):\n",
    "    return sum([1 for col in row if pd.notna(col) and col == 'K'])\n",
    "data_absen_perbulan['KULIAH'] = data_absen_perbulan.apply(hitung_jumlah_K, axis=1)\n",
    "def hitung_jumlah_I(row):\n",
    "    return sum([1 for col in row if pd.notna(col) and col == 'I'])\n",
    "data_absen_perbulan['IZIN'] = data_absen_perbulan.apply(hitung_jumlah_I, axis=1)\n",
    "def hitung_jumlah_R(row):\n",
    "    return sum([1 for col in row if pd.notna(col) and col == 'R'])\n",
    "data_absen_perbulan['RAKER'] = data_absen_perbulan.apply(hitung_jumlah_R, axis=1)\n",
    "def hitung_jumlah_pkl_skripsi(row):\n",
    "    return sum([1 for col in row if pd.notna(col) and col == 'pkl/skripsi'])\n",
    "data_absen_perbulan['pkl/skripsi'] = data_absen_perbulan.apply(hitung_jumlah_pkl_skripsi, axis=1)\n",
    "def hitung_jumlah_smnr_plthn(row):\n",
    "    return sum([1 for col in row if pd.notna(col) and col == 'smnr/plthn'])\n",
    "data_absen_perbulan['smnr/plthn'] = data_absen_perbulan.apply(hitung_jumlah_smnr_plthn, axis=1)\n",
    "def hitung_jumlah_ck(row):\n",
    "    return sum([1 for col in row if pd.notna(col) and col == 'CK'])\n",
    "data_absen_perbulan['CUTI KHUSUS'] = data_absen_perbulan.apply(hitung_jumlah_ck, axis=1)\n",
    "\n",
    "pd.set_option('display.max_columns', None)\n",
    "# data_absen_perbulan\n",
    "# data_absen_perbulan.to_excel(\"rekap cuti januaryy.xlsx\", index= False)\n",
    "# data_absen_perbulan\n",
    "# data_absen_perbulan.to_excel('rekap cuti february.xlsx', index= False)\n",
    "# data_absen_perbulan\n",
    "# data_absen_perbulan.to_excel('rekap cuti march.xlsx', index= False)\n",
    "# data_absen_perbulan\n",
    "# data_absen_perbulan.to_excel('rekap cuti april.xlsx', index= False)\n",
    "# data_absen_perbulan\n",
    "# data_absen_perbulan.to_excel('rekap cuti may.xlsx', index= False)\n",
    "# data_absen_perbulan\n",
    "# data_absen_perbulan.to_excel('rekap cuti juny.xlsx', index= False)\n",
    "# data_absen_perbulan\n",
    "# data_absen_perbulan.to_excel('rekap cuti july.xlsx', index= False)\n",
    "# data_absen_perbulan\n",
    "# data_absen_perbulan.to_excel('rekap cuti agustus.xlsx', index= False)\n",
    "# data_absen_perbulan\n",
    "# data_absen_perbulan.to_excel('rekap cuti september.xlsx', index= False)\n",
    "# data_absen_perbulan\n",
    "# data_absen_perbulan.to_excel('rekap cuti october.xlsx', index= False)\n",
    "# data_absen_perbulan\n",
    "# data_absen_perbulan.to_excel('rekap cuti november.xlsx', index= False)\n",
    "# data_absen_perbulan\n",
    "# data_absen_perbulan.to_excel('rekap cuti december.xlsx', index= False)\n",
    "# data_absen_perbulan"
   ]
  }
 ],
 "metadata": {
  "kernelspec": {
   "display_name": "interpreter",
   "language": "python",
   "name": "python3"
  },
  "language_info": {
   "codemirror_mode": {
    "name": "ipython",
    "version": 3
   },
   "file_extension": ".py",
   "mimetype": "text/x-python",
   "name": "python",
   "nbconvert_exporter": "python",
   "pygments_lexer": "ipython3",
   "version": "3.9.18"
  }
 },
 "nbformat": 4,
 "nbformat_minor": 2
}
